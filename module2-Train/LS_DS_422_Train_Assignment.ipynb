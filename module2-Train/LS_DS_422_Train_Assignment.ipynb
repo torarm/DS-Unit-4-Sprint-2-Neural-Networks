{
 "cells": [
  {
   "cell_type": "markdown",
   "metadata": {
    "colab_type": "text",
    "id": "NGGrt9EYlCqY"
   },
   "source": [
    "<img align=\"left\" src=\"https://lever-client-logos.s3.amazonaws.com/864372b1-534c-480e-acd5-9711f850815c-1524247202159.png\" width=200>\n",
    "<br></br>\n",
    "<br></br>\n",
    "\n",
    "# Train Practice\n",
    "\n",
    "## *Data Science Unit 4 Sprint 2 Assignment 2*\n",
    "\n",
    "Continue to use TensorFlow Keras & a sample of the [Quickdraw dataset](https://github.com/googlecreativelab/quickdraw-dataset) to build a sketch classification model. The dataset has been sampled to only 10 classes and 10000 observations per class. Please build a baseline classification model then run a few experiments with different optimizers and learning rates. \n",
    "\n",
    "*Don't forgot to switch to GPU on Colab!*"
   ]
  },
  {
   "cell_type": "markdown",
   "metadata": {
    "colab_type": "text",
    "id": "ptJ2b3wk62Ud"
   },
   "source": [
    "### Write a function to load your data\n",
    "\n",
    "Wrap yesterday's preprocessing steps into a function that returns four items:\n",
    "* X_train\n",
    "* y_train\n",
    "* X_test\n",
    "* y_test\n",
    "\n",
    "Your function should accept a `path` to the data as a argument."
   ]
  },
  {
   "cell_type": "code",
   "execution_count": 14,
   "metadata": {},
   "outputs": [],
   "source": [
    "import pandas as pd\n",
    "import numpy as np\n",
    "\n",
    "from sklearn.model_selection import train_test_split\n",
    "from sklearn.utils import shuffle\n",
    "\n",
    "# ploting \n",
    "import matplotlib.pyplot as plt\n",
    "import seaborn as sns\n",
    "\n",
    "# tensorflow imports for building \n",
    "import tensorflow as tf\n",
    "from tensorflow.keras import Sequential\n",
    "from tensorflow.keras.layers import Dense\n",
    "from tensorflow.keras.optimizers import SGD, Adam, Adagrad, Adamax, RMSprop"
   ]
  },
  {
   "cell_type": "code",
   "execution_count": 3,
   "metadata": {
    "colab": {},
    "colab_type": "code",
    "id": "nJsIsrvp7O3e"
   },
   "outputs": [],
   "source": [
    "def load_quickdraw10(path):\n",
    "    data = np.load(path)\n",
    "    X = data['arr_0']\n",
    "    y = data['arr_1']\n",
    "    X, y = shuffle(X, y)\n",
    "    X_train, X_test, y_train, y_test = train_test_split(X, y, test_size=.2, random_state=69)\n",
    "    return X_train, X_test, y_train, y_test"
   ]
  },
  {
   "cell_type": "code",
   "execution_count": 4,
   "metadata": {},
   "outputs": [],
   "source": [
    "q_path = '/Users/don/Desktop/u4w2/DS-Unit-4-Sprint-2-Neural-Networks/quickdraw10.npz'\n",
    "X_train, X_test, y_train, y_test = load_quickdraw10(q_path)"
   ]
  },
  {
   "cell_type": "code",
   "execution_count": 5,
   "metadata": {},
   "outputs": [
    {
     "name": "stdout",
     "output_type": "stream",
     "text": [
      "(80000, 784)\n",
      "(80000,)\n",
      "(20000, 784)\n",
      "(20000,)\n"
     ]
    }
   ],
   "source": [
    "print(X_train.shape)\n",
    "print(y_train.shape)\n",
    "print(X_test.shape)\n",
    "print(y_test.shape)"
   ]
  },
  {
   "cell_type": "markdown",
   "metadata": {
    "colab_type": "text",
    "id": "l-6PxI6H5__2"
   },
   "source": [
    "### Write a Model Function\n",
    "Using your model from yesterday, write a function called `create_model` which returns a compiled TensorFlow Keras Sequential Model suitable for classifying the QuickDraw-10 dataset. Include parameters for the following: \n",
    "* Learning Rate\n",
    "* Optimizer"
   ]
  },
  {
   "cell_type": "code",
   "execution_count": 28,
   "metadata": {
    "colab": {},
    "colab_type": "code",
    "id": "nEREYT-3wI1f"
   },
   "outputs": [],
   "source": [
    "##### Your Code Here #####\n",
    "\n",
    "def create_model(lr, optimizer):\n",
    "    opt = optimizer(learning_rate=lr)\n",
    "    model = Sequential([\n",
    "      # input layer \n",
    "      Dense(100, activation='relu', input_dim=784),\n",
    "      # hidden layer\n",
    "      Dense(32, activation='relu'),\n",
    "      # output layer \n",
    "      Dense(10, activation='softmax')\n",
    "    ])\n",
    "    model.compile(optimizer=opt, \n",
    "                  loss='sparse_categorical_crossentropy',\n",
    "                  metrics=['accuracy'])\n",
    "    return model"
   ]
  },
  {
   "cell_type": "code",
   "execution_count": 19,
   "metadata": {},
   "outputs": [],
   "source": [
    "def batch_model(bs):\n",
    "    model = create_model(lr=0.01, optimizer=Adam)\n",
    "    res = model.fit(X_train, y_train, epochs=5,\n",
    "                   validation_data=(X_test, y_test),\n",
    "                   batch_size=bs)\n",
    "    return res"
   ]
  },
  {
   "cell_type": "markdown",
   "metadata": {
    "colab_type": "text",
    "id": "f0pCkh8C7eGL"
   },
   "source": [
    "### Experiment with Batch Size\n",
    "* Run 5 experiments with various batch sizes of your choice. \n",
    "* Visualize the results\n",
    "* Write up an analysis of the experiments and select the \"best\" performing model among your experiments. Make sure to compare against your model's performance yesterday. "
   ]
  },
  {
   "cell_type": "code",
   "execution_count": 20,
   "metadata": {
    "colab": {},
    "colab_type": "code",
    "id": "USXjs7Hk71Hy"
   },
   "outputs": [
    {
     "name": "stdout",
     "output_type": "stream",
     "text": [
      "Epoch 1/10\n",
      "40000/40000 [==============================] - 73s 2ms/step - loss: 2.3735 - accuracy: 0.0957 - val_loss: 2.3246 - val_accuracy: 0.0984\n",
      "Epoch 2/10\n",
      "40000/40000 [==============================] - 67s 2ms/step - loss: 2.3664 - accuracy: 0.0995 - val_loss: 2.3612 - val_accuracy: 0.1014\n",
      "Epoch 3/10\n",
      "40000/40000 [==============================] - 70s 2ms/step - loss: 2.3767 - accuracy: 0.1009 - val_loss: 2.3495 - val_accuracy: 0.1001\n",
      "Epoch 4/10\n",
      "40000/40000 [==============================] - 68s 2ms/step - loss: 2.3768 - accuracy: 0.0974 - val_loss: 2.3733 - val_accuracy: 0.0974\n",
      "Epoch 5/10\n",
      "40000/40000 [==============================] - 68s 2ms/step - loss: 2.3766 - accuracy: 0.1032 - val_loss: 2.3298 - val_accuracy: 0.1042\n",
      "Epoch 6/10\n",
      "40000/40000 [==============================] - 78s 2ms/step - loss: 2.3767 - accuracy: 0.0985 - val_loss: 2.4324 - val_accuracy: 0.1015\n",
      "Epoch 7/10\n",
      "40000/40000 [==============================] - 91s 2ms/step - loss: 2.3760 - accuracy: 0.0985 - val_loss: 2.3402 - val_accuracy: 0.1042\n",
      "Epoch 8/10\n",
      "40000/40000 [==============================] - 77s 2ms/step - loss: 2.3759 - accuracy: 0.0993 - val_loss: 2.4595 - val_accuracy: 0.0985\n",
      "Epoch 9/10\n",
      "40000/40000 [==============================] - 74s 2ms/step - loss: 2.3759 - accuracy: 0.1027 - val_loss: 2.3557 - val_accuracy: 0.1001\n",
      "Epoch 10/10\n",
      "40000/40000 [==============================] - 77s 2ms/step - loss: 2.3769 - accuracy: 0.0990 - val_loss: 2.4103 - val_accuracy: 0.0996\n"
     ]
    }
   ],
   "source": [
    "bt2 = batch_model(bs=2)"
   ]
  },
  {
   "cell_type": "code",
   "execution_count": 21,
   "metadata": {},
   "outputs": [
    {
     "name": "stdout",
     "output_type": "stream",
     "text": [
      "Epoch 1/10\n",
      "10000/10000 [==============================] - 21s 2ms/step - loss: 2.3070 - accuracy: 0.1244 - val_loss: 2.3638 - val_accuracy: 0.1015\n",
      "Epoch 2/10\n",
      "10000/10000 [==============================] - 20s 2ms/step - loss: 2.3525 - accuracy: 0.1003 - val_loss: 2.3590 - val_accuracy: 0.0972\n",
      "Epoch 3/10\n",
      "10000/10000 [==============================] - 20s 2ms/step - loss: 2.3492 - accuracy: 0.1004 - val_loss: 2.3383 - val_accuracy: 0.0985\n",
      "Epoch 4/10\n",
      "10000/10000 [==============================] - 19s 2ms/step - loss: 2.3521 - accuracy: 0.0990 - val_loss: 2.3765 - val_accuracy: 0.1001\n",
      "Epoch 5/10\n",
      "10000/10000 [==============================] - 19s 2ms/step - loss: 2.3524 - accuracy: 0.0966 - val_loss: 2.3488 - val_accuracy: 0.1041\n",
      "Epoch 6/10\n",
      "10000/10000 [==============================] - 20s 2ms/step - loss: 2.3490 - accuracy: 0.1035 - val_loss: 2.3694 - val_accuracy: 0.1016\n",
      "Epoch 7/10\n",
      "10000/10000 [==============================] - 20s 2ms/step - loss: 2.3515 - accuracy: 0.1008 - val_loss: 2.3954 - val_accuracy: 0.1001\n",
      "Epoch 8/10\n",
      "10000/10000 [==============================] - 18s 2ms/step - loss: 2.3519 - accuracy: 0.0994 - val_loss: 2.3785 - val_accuracy: 0.0985\n",
      "Epoch 9/10\n",
      "10000/10000 [==============================] - 19s 2ms/step - loss: 2.3529 - accuracy: 0.0995 - val_loss: 2.3469 - val_accuracy: 0.0985\n",
      "Epoch 10/10\n",
      "10000/10000 [==============================] - 19s 2ms/step - loss: 2.3524 - accuracy: 0.0992 - val_loss: 2.3371 - val_accuracy: 0.1015\n"
     ]
    }
   ],
   "source": [
    "bt8 = batch_model(bs=8)"
   ]
  },
  {
   "cell_type": "code",
   "execution_count": 22,
   "metadata": {},
   "outputs": [
    {
     "name": "stdout",
     "output_type": "stream",
     "text": [
      "Epoch 1/10\n",
      "4000/4000 [==============================] - 10s 2ms/step - loss: 2.2743 - accuracy: 0.1324 - val_loss: 2.3148 - val_accuracy: 0.1015\n",
      "Epoch 2/10\n",
      "4000/4000 [==============================] - 9s 2ms/step - loss: 2.3309 - accuracy: 0.0988 - val_loss: 2.3092 - val_accuracy: 0.1016\n",
      "Epoch 3/10\n",
      "4000/4000 [==============================] - 10s 2ms/step - loss: 2.3283 - accuracy: 0.1035 - val_loss: 2.3333 - val_accuracy: 0.0974\n",
      "Epoch 4/10\n",
      "4000/4000 [==============================] - 8s 2ms/step - loss: 2.3287 - accuracy: 0.1001 - val_loss: 2.3282 - val_accuracy: 0.0996\n",
      "Epoch 5/10\n",
      "4000/4000 [==============================] - 8s 2ms/step - loss: 2.3290 - accuracy: 0.1016 - val_loss: 2.3225 - val_accuracy: 0.0974\n",
      "Epoch 6/10\n",
      "4000/4000 [==============================] - 9s 2ms/step - loss: 2.3286 - accuracy: 0.0988 - val_loss: 2.3420 - val_accuracy: 0.1015\n",
      "Epoch 7/10\n",
      "4000/4000 [==============================] - 10s 2ms/step - loss: 2.3298 - accuracy: 0.0998 - val_loss: 2.3302 - val_accuracy: 0.1013\n",
      "Epoch 8/10\n",
      "4000/4000 [==============================] - 8s 2ms/step - loss: 2.3293 - accuracy: 0.1000 - val_loss: 2.3298 - val_accuracy: 0.1015\n",
      "Epoch 9/10\n",
      "4000/4000 [==============================] - 8s 2ms/step - loss: 2.3288 - accuracy: 0.1003 - val_loss: 2.3511 - val_accuracy: 0.0985\n",
      "Epoch 10/10\n",
      "4000/4000 [==============================] - 8s 2ms/step - loss: 2.3303 - accuracy: 0.1012 - val_loss: 2.3362 - val_accuracy: 0.0985\n"
     ]
    }
   ],
   "source": [
    "bt20 = batch_model(bs=20)"
   ]
  },
  {
   "cell_type": "code",
   "execution_count": 23,
   "metadata": {},
   "outputs": [
    {
     "name": "stdout",
     "output_type": "stream",
     "text": [
      "Epoch 1/10\n",
      "2500/2500 [==============================] - 6s 2ms/step - loss: 2.1992 - accuracy: 0.1705 - val_loss: 2.3136 - val_accuracy: 0.1013\n",
      "Epoch 2/10\n",
      "2500/2500 [==============================] - 5s 2ms/step - loss: 2.3263 - accuracy: 0.0996 - val_loss: 2.3225 - val_accuracy: 0.0972\n",
      "Epoch 3/10\n",
      "2500/2500 [==============================] - 5s 2ms/step - loss: 2.3238 - accuracy: 0.1005 - val_loss: 2.3363 - val_accuracy: 0.0996\n",
      "Epoch 4/10\n",
      "2500/2500 [==============================] - 6s 2ms/step - loss: 2.3233 - accuracy: 0.1001 - val_loss: 2.3144 - val_accuracy: 0.1013\n",
      "Epoch 5/10\n",
      "2500/2500 [==============================] - 5s 2ms/step - loss: 2.3224 - accuracy: 0.1010 - val_loss: 2.3186 - val_accuracy: 0.0996\n",
      "Epoch 6/10\n",
      "2500/2500 [==============================] - 5s 2ms/step - loss: 2.3250 - accuracy: 0.0996 - val_loss: 2.3278 - val_accuracy: 0.0984\n",
      "Epoch 7/10\n",
      "2500/2500 [==============================] - 5s 2ms/step - loss: 2.3238 - accuracy: 0.0986 - val_loss: 2.3282 - val_accuracy: 0.0985\n",
      "Epoch 8/10\n",
      "2500/2500 [==============================] - 5s 2ms/step - loss: 2.3253 - accuracy: 0.1008 - val_loss: 2.3193 - val_accuracy: 0.1042\n",
      "Epoch 9/10\n",
      "2500/2500 [==============================] - 5s 2ms/step - loss: 2.3239 - accuracy: 0.0991 - val_loss: 2.3294 - val_accuracy: 0.1001\n",
      "Epoch 10/10\n",
      "2500/2500 [==============================] - 5s 2ms/step - loss: 2.3242 - accuracy: 0.0999 - val_loss: 2.3283 - val_accuracy: 0.1015\n"
     ]
    }
   ],
   "source": [
    "bt32 = batch_model(bs=32)"
   ]
  },
  {
   "cell_type": "code",
   "execution_count": 24,
   "metadata": {},
   "outputs": [
    {
     "name": "stdout",
     "output_type": "stream",
     "text": [
      "Epoch 1/10\n",
      "800/800 [==============================] - 3s 3ms/step - loss: 2.0412 - accuracy: 0.2242 - val_loss: 1.9137 - val_accuracy: 0.2684\n",
      "Epoch 2/10\n",
      "800/800 [==============================] - 2s 3ms/step - loss: 1.9078 - accuracy: 0.2592 - val_loss: 1.7549 - val_accuracy: 0.3074\n",
      "Epoch 3/10\n",
      "800/800 [==============================] - 2s 3ms/step - loss: 1.8369 - accuracy: 0.2817 - val_loss: 2.0409 - val_accuracy: 0.2250\n",
      "Epoch 4/10\n",
      "800/800 [==============================] - 2s 3ms/step - loss: 1.9507 - accuracy: 0.2512 - val_loss: 1.7425 - val_accuracy: 0.3686\n",
      "Epoch 5/10\n",
      "800/800 [==============================] - 3s 3ms/step - loss: 1.7850 - accuracy: 0.3390 - val_loss: 1.8776 - val_accuracy: 0.2558\n",
      "Epoch 6/10\n",
      "800/800 [==============================] - 2s 3ms/step - loss: 1.8335 - accuracy: 0.2908 - val_loss: 1.7730 - val_accuracy: 0.3327\n",
      "Epoch 7/10\n",
      "800/800 [==============================] - 2s 3ms/step - loss: 1.7636 - accuracy: 0.3312 - val_loss: 1.8010 - val_accuracy: 0.2625\n",
      "Epoch 8/10\n",
      "800/800 [==============================] - 2s 3ms/step - loss: 1.8162 - accuracy: 0.2845 - val_loss: 1.7962 - val_accuracy: 0.3118\n",
      "Epoch 9/10\n",
      "800/800 [==============================] - 2s 3ms/step - loss: 1.8112 - accuracy: 0.2909 - val_loss: 1.8298 - val_accuracy: 0.2741\n",
      "Epoch 10/10\n",
      "800/800 [==============================] - 2s 3ms/step - loss: 1.7942 - accuracy: 0.2870 - val_loss: 1.7836 - val_accuracy: 0.2844\n"
     ]
    }
   ],
   "source": [
    "bt100 = batch_model(bs=100)"
   ]
  },
  {
   "cell_type": "code",
   "execution_count": 25,
   "metadata": {},
   "outputs": [
    {
     "data": {
      "text/html": [
       "<div>\n",
       "<style scoped>\n",
       "    .dataframe tbody tr th:only-of-type {\n",
       "        vertical-align: middle;\n",
       "    }\n",
       "\n",
       "    .dataframe tbody tr th {\n",
       "        vertical-align: top;\n",
       "    }\n",
       "\n",
       "    .dataframe thead th {\n",
       "        text-align: right;\n",
       "    }\n",
       "</style>\n",
       "<table border=\"1\" class=\"dataframe\">\n",
       "  <thead>\n",
       "    <tr style=\"text-align: right;\">\n",
       "      <th></th>\n",
       "      <th>loss</th>\n",
       "      <th>accuracy</th>\n",
       "      <th>val_loss</th>\n",
       "      <th>val_accuracy</th>\n",
       "      <th>epoch</th>\n",
       "      <th>Batch Size</th>\n",
       "    </tr>\n",
       "  </thead>\n",
       "  <tbody>\n",
       "    <tr>\n",
       "      <th>0</th>\n",
       "      <td>2.369362</td>\n",
       "      <td>0.098075</td>\n",
       "      <td>2.324553</td>\n",
       "      <td>0.09845</td>\n",
       "      <td>0</td>\n",
       "      <td>2_</td>\n",
       "    </tr>\n",
       "    <tr>\n",
       "      <th>1</th>\n",
       "      <td>2.368978</td>\n",
       "      <td>0.099937</td>\n",
       "      <td>2.361239</td>\n",
       "      <td>0.10135</td>\n",
       "      <td>1</td>\n",
       "      <td>2_</td>\n",
       "    </tr>\n",
       "    <tr>\n",
       "      <th>2</th>\n",
       "      <td>2.377697</td>\n",
       "      <td>0.099662</td>\n",
       "      <td>2.349541</td>\n",
       "      <td>0.10015</td>\n",
       "      <td>2</td>\n",
       "      <td>2_</td>\n",
       "    </tr>\n",
       "    <tr>\n",
       "      <th>3</th>\n",
       "      <td>2.376087</td>\n",
       "      <td>0.099525</td>\n",
       "      <td>2.373291</td>\n",
       "      <td>0.09740</td>\n",
       "      <td>3</td>\n",
       "      <td>2_</td>\n",
       "    </tr>\n",
       "    <tr>\n",
       "      <th>4</th>\n",
       "      <td>2.376773</td>\n",
       "      <td>0.102712</td>\n",
       "      <td>2.329812</td>\n",
       "      <td>0.10420</td>\n",
       "      <td>4</td>\n",
       "      <td>2_</td>\n",
       "    </tr>\n",
       "  </tbody>\n",
       "</table>\n",
       "</div>"
      ],
      "text/plain": [
       "       loss  accuracy  val_loss  val_accuracy  epoch Batch Size\n",
       "0  2.369362  0.098075  2.324553       0.09845      0         2_\n",
       "1  2.368978  0.099937  2.361239       0.10135      1         2_\n",
       "2  2.377697  0.099662  2.349541       0.10015      2         2_\n",
       "3  2.376087  0.099525  2.373291       0.09740      3         2_\n",
       "4  2.376773  0.102712  2.329812       0.10420      4         2_"
      ]
     },
     "execution_count": 25,
     "metadata": {},
     "output_type": "execute_result"
    }
   ],
   "source": [
    "batch_sizes = []\n",
    "\n",
    "for exp, result in zip([bt2, bt8, bt20, bt32, bt100], [\"2_\", \"8_\", \"20_\", \"32_\", \"100_\"]):\n",
    "\n",
    "    bdf = pd.DataFrame.from_dict(exp.history)\n",
    "    bdf['epoch'] = bdf.index.values\n",
    "    bdf['Batch Size'] = result\n",
    "\n",
    "    batch_sizes.append(bdf)\n",
    "\n",
    "bdf = pd.concat(batch_sizes)\n",
    "bdf['Batch Size'] = bdf['Batch Size'].astype('str')\n",
    "bdf.head()"
   ]
  },
  {
   "cell_type": "code",
   "execution_count": 26,
   "metadata": {},
   "outputs": [
    {
     "data": {
      "image/png": "[encoded data removed]",
      "text/plain": [
       "<Figure size 432x288 with 1 Axes>"
      ]
     },
     "metadata": {
      "needs_background": "light"
     },
     "output_type": "display_data"
    }
   ],
   "source": [
    "sns.lineplot(x='epoch', y='val_accuracy', hue='Batch Size', data=bdf);"
   ]
  },
  {
   "cell_type": "code",
   "execution_count": 27,
   "metadata": {},
   "outputs": [
    {
     "data": {
      "image/png": "[encoded data removed]",
      "text/plain": [
       "<Figure size 432x288 with 1 Axes>"
      ]
     },
     "metadata": {
      "needs_background": "light"
     },
     "output_type": "display_data"
    }
   ],
   "source": [
    "sns.lineplot(x='epoch', y='val_loss', hue='Batch Size', data=bdf);"
   ]
  },
  {
   "cell_type": "markdown",
   "metadata": {
    "colab_type": "text",
    "id": "8b-r70o8p2Dm"
   },
   "source": [
    "### Experiment with Learning Rate\n",
    "* Run 5 experiments with various learning rate magnitudes: 1, .1, .01, .001, .0001.\n",
    "* Use the \"best\" batch size from the previous experiment\n",
    "* Visualize the results\n",
    "* Write up an analysis of the experiments and select the \"best\" performing model among your experiments. Make sure to compare against the previous experiments and your model's performance yesterday. "
   ]
  },
  {
   "cell_type": "code",
   "execution_count": 29,
   "metadata": {
    "colab": {},
    "colab_type": "code",
    "id": "_SA144xx8Luf"
   },
   "outputs": [],
   "source": [
    "def change_lr(lr):\n",
    "    model = create_model(lr=lr, optimizer=Adam)\n",
    "    res = model.fit(X_train, y_train, epochs=5,\n",
    "                   validation_data=(X_test, y_test),\n",
    "                   batch_size=32)\n",
    "    return res"
   ]
  },
  {
   "cell_type": "code",
   "execution_count": 31,
   "metadata": {},
   "outputs": [
    {
     "name": "stdout",
     "output_type": "stream",
     "text": [
      "Epoch 1/5\n",
      "2500/2500 [==============================] - 7s 3ms/step - loss: 7254.2573 - accuracy: 0.1011 - val_loss: 2.3867 - val_accuracy: 0.0985\n",
      "Epoch 2/5\n",
      "2500/2500 [==============================] - 6s 2ms/step - loss: 22933.9178 - accuracy: 0.1003 - val_loss: 2.5209 - val_accuracy: 0.1042\n",
      "Epoch 3/5\n",
      "2500/2500 [==============================] - 6s 2ms/step - loss: 2.4065 - accuracy: 0.0990 - val_loss: 2.4336 - val_accuracy: 0.1013\n",
      "Epoch 4/5\n",
      "2500/2500 [==============================] - 6s 2ms/step - loss: 2.4129 - accuracy: 0.0987 - val_loss: 2.3496 - val_accuracy: 0.1001\n",
      "Epoch 5/5\n",
      "2500/2500 [==============================] - 6s 2ms/step - loss: 2.4079 - accuracy: 0.1018 - val_loss: 2.4143 - val_accuracy: 0.0996\n",
      "Epoch 1/5\n",
      "2500/2500 [==============================] - 6s 2ms/step - loss: 55.4039 - accuracy: 0.1002 - val_loss: 2.5371 - val_accuracy: 0.0985\n",
      "Epoch 2/5\n",
      "2500/2500 [==============================] - 5s 2ms/step - loss: 3.7990 - accuracy: 0.1002 - val_loss: 2.3753 - val_accuracy: 0.0985\n",
      "Epoch 3/5\n",
      "2500/2500 [==============================] - 6s 2ms/step - loss: 2.4120 - accuracy: 0.0991 - val_loss: 2.3107 - val_accuracy: 0.1001\n",
      "Epoch 4/5\n",
      "2500/2500 [==============================] - 6s 2ms/step - loss: 2.3148 - accuracy: 0.1023 - val_loss: 2.3067 - val_accuracy: 0.1016\n",
      "Epoch 5/5\n",
      "2500/2500 [==============================] - 6s 2ms/step - loss: 2.3162 - accuracy: 0.0995 - val_loss: 2.3125 - val_accuracy: 0.1015\n",
      "Epoch 1/5\n",
      "2500/2500 [==============================] - 6s 2ms/step - loss: 4.7189 - accuracy: 0.1110 - val_loss: 2.3037 - val_accuracy: 0.0972\n",
      "Epoch 2/5\n",
      "2500/2500 [==============================] - 7s 3ms/step - loss: 2.3045 - accuracy: 0.0995 - val_loss: 2.3032 - val_accuracy: 0.0996\n",
      "Epoch 3/5\n",
      "2500/2500 [==============================] - 6s 3ms/step - loss: 2.3040 - accuracy: 0.0992 - val_loss: 2.3048 - val_accuracy: 0.0974\n",
      "Epoch 4/5\n",
      "2500/2500 [==============================] - 6s 2ms/step - loss: 2.3040 - accuracy: 0.0995 - val_loss: 2.3037 - val_accuracy: 0.0985\n",
      "Epoch 5/5\n",
      "2500/2500 [==============================] - 6s 2ms/step - loss: 2.3040 - accuracy: 0.0997 - val_loss: 2.3034 - val_accuracy: 0.0985\n",
      "Epoch 1/5\n",
      "2500/2500 [==============================] - 7s 3ms/step - loss: 5.2530 - accuracy: 0.3469 - val_loss: 1.4046 - val_accuracy: 0.4938\n",
      "Epoch 2/5\n",
      "2500/2500 [==============================] - 6s 3ms/step - loss: 1.3041 - accuracy: 0.5432 - val_loss: 1.0455 - val_accuracy: 0.6445\n",
      "Epoch 3/5\n",
      "2500/2500 [==============================] - 6s 2ms/step - loss: 0.9479 - accuracy: 0.6906 - val_loss: 0.7716 - val_accuracy: 0.7587\n",
      "Epoch 4/5\n",
      "2500/2500 [==============================] - 6s 2ms/step - loss: 0.7143 - accuracy: 0.7776 - val_loss: 0.7225 - val_accuracy: 0.7877\n",
      "Epoch 5/5\n",
      "2500/2500 [==============================] - 6s 2ms/step - loss: 0.6326 - accuracy: 0.8081 - val_loss: 0.6622 - val_accuracy: 0.8115\n",
      "Epoch 1/5\n",
      "2500/2500 [==============================] - 6s 2ms/step - loss: 15.5811 - accuracy: 0.1813 - val_loss: 1.9529 - val_accuracy: 0.2962\n",
      "Epoch 2/5\n",
      "2500/2500 [==============================] - 6s 2ms/step - loss: 1.8652 - accuracy: 0.3320 - val_loss: 1.6960 - val_accuracy: 0.3975\n",
      "Epoch 3/5\n",
      "2500/2500 [==============================] - 6s 2ms/step - loss: 1.6521 - accuracy: 0.4085 - val_loss: 1.5749 - val_accuracy: 0.4327\n",
      "Epoch 4/5\n",
      "2500/2500 [==============================] - 6s 2ms/step - loss: 1.4922 - accuracy: 0.4561 - val_loss: 1.4814 - val_accuracy: 0.4627\n",
      "Epoch 5/5\n",
      "2500/2500 [==============================] - 6s 2ms/step - loss: 1.3914 - accuracy: 0.4859 - val_loss: 1.4125 - val_accuracy: 0.4929\n"
     ]
    }
   ],
   "source": [
    "lr1 = change_lr(lr=1)\n",
    "lr_1 = change_lr(lr=0.1)\n",
    "lr_01 = change_lr(lr=0.01)\n",
    "lr_001 = change_lr(lr=0.001)\n",
    "lr_0001 = change_lr(lr=0.0001)"
   ]
  },
  {
   "cell_type": "code",
   "execution_count": 32,
   "metadata": {},
   "outputs": [
    {
     "data": {
      "text/html": [
       "<div>\n",
       "<style scoped>\n",
       "    .dataframe tbody tr th:only-of-type {\n",
       "        vertical-align: middle;\n",
       "    }\n",
       "\n",
       "    .dataframe tbody tr th {\n",
       "        vertical-align: top;\n",
       "    }\n",
       "\n",
       "    .dataframe thead th {\n",
       "        text-align: right;\n",
       "    }\n",
       "</style>\n",
       "<table border=\"1\" class=\"dataframe\">\n",
       "  <thead>\n",
       "    <tr style=\"text-align: right;\">\n",
       "      <th></th>\n",
       "      <th>loss</th>\n",
       "      <th>accuracy</th>\n",
       "      <th>val_loss</th>\n",
       "      <th>val_accuracy</th>\n",
       "      <th>epoch</th>\n",
       "      <th>Learning Rate</th>\n",
       "    </tr>\n",
       "  </thead>\n",
       "  <tbody>\n",
       "    <tr>\n",
       "      <th>0</th>\n",
       "      <td>7330.759277</td>\n",
       "      <td>0.099300</td>\n",
       "      <td>2.386652</td>\n",
       "      <td>0.09855</td>\n",
       "      <td>0</td>\n",
       "      <td>1_</td>\n",
       "    </tr>\n",
       "    <tr>\n",
       "      <th>1</th>\n",
       "      <td>8098.252930</td>\n",
       "      <td>0.100188</td>\n",
       "      <td>2.520941</td>\n",
       "      <td>0.10420</td>\n",
       "      <td>1</td>\n",
       "      <td>1_</td>\n",
       "    </tr>\n",
       "    <tr>\n",
       "      <th>2</th>\n",
       "      <td>2.411111</td>\n",
       "      <td>0.099588</td>\n",
       "      <td>2.433562</td>\n",
       "      <td>0.10130</td>\n",
       "      <td>2</td>\n",
       "      <td>1_</td>\n",
       "    </tr>\n",
       "    <tr>\n",
       "      <th>3</th>\n",
       "      <td>2.410665</td>\n",
       "      <td>0.099650</td>\n",
       "      <td>2.349645</td>\n",
       "      <td>0.10015</td>\n",
       "      <td>3</td>\n",
       "      <td>1_</td>\n",
       "    </tr>\n",
       "    <tr>\n",
       "      <th>4</th>\n",
       "      <td>2.409419</td>\n",
       "      <td>0.102425</td>\n",
       "      <td>2.414254</td>\n",
       "      <td>0.09960</td>\n",
       "      <td>4</td>\n",
       "      <td>1_</td>\n",
       "    </tr>\n",
       "  </tbody>\n",
       "</table>\n",
       "</div>"
      ],
      "text/plain": [
       "          loss  accuracy  val_loss  val_accuracy  epoch Learning Rate\n",
       "0  7330.759277  0.099300  2.386652       0.09855      0            1_\n",
       "1  8098.252930  0.100188  2.520941       0.10420      1            1_\n",
       "2     2.411111  0.099588  2.433562       0.10130      2            1_\n",
       "3     2.410665  0.099650  2.349645       0.10015      3            1_\n",
       "4     2.409419  0.102425  2.414254       0.09960      4            1_"
      ]
     },
     "execution_count": 32,
     "metadata": {},
     "output_type": "execute_result"
    }
   ],
   "source": [
    "lr_sizes = []\n",
    "\n",
    "for exp, result in zip([lr1, lr_1, lr_01, lr_001, lr_0001], [\"1_\", \".1_\", \".01_\", \".001_\", \".0001_\"]):\n",
    "\n",
    "    lrdf = pd.DataFrame.from_dict(exp.history)\n",
    "    lrdf['epoch'] = lrdf.index.values\n",
    "    lrdf['Learning Rate'] = result\n",
    "\n",
    "    lr_sizes.append(lrdf)\n",
    "\n",
    "lrdf = pd.concat(lr_sizes)\n",
    "lrdf['Learning Rate'] = lrdf['Learning Rate'].astype('str')\n",
    "lrdf.head()"
   ]
  },
  {
   "cell_type": "code",
   "execution_count": 34,
   "metadata": {},
   "outputs": [
    {
     "data": {
      "image/png": "[encoded data removed]",
      "text/plain": [
       "<Figure size 432x288 with 1 Axes>"
      ]
     },
     "metadata": {
      "needs_background": "light"
     },
     "output_type": "display_data"
    }
   ],
   "source": [
    "sns.lineplot(x='epoch', y='val_accuracy', hue='Learning Rate', data=lrdf);"
   ]
  },
  {
   "cell_type": "code",
   "execution_count": 35,
   "metadata": {},
   "outputs": [
    {
     "data": {
      "image/png": "[encoded data removed]",
      "text/plain": [
       "<Figure size 432x288 with 1 Axes>"
      ]
     },
     "metadata": {
      "needs_background": "light"
     },
     "output_type": "display_data"
    }
   ],
   "source": [
    "sns.lineplot(x='epoch', y='val_loss', hue='Learning Rate', data=lrdf);"
   ]
  },
  {
   "cell_type": "markdown",
   "metadata": {
    "colab_type": "text",
    "id": "gxMtSRhV9Q7I"
   },
   "source": [
    "### Experiment with different Optimizers\n",
    "* Run 5 experiments with various optimizers available in TensorFlow. See list [here](https://www.tensorflow.org/api_docs/python/tf/keras/optimizers)\n",
    "* Visualize the results\n",
    "* Write up an analysis of the experiments and select the \"best\" performing model among your experiments. Make sure to compare against the previous experiments and your model's performance yesterday.\n",
    "* Repeat the experiment combining Learning Rate and different optimizers. Does the best performing model change? "
   ]
  },
  {
   "cell_type": "code",
   "execution_count": 36,
   "metadata": {
    "colab": {},
    "colab_type": "code",
    "id": "ujLuzdNA91ip"
   },
   "outputs": [],
   "source": [
    "def change_opt(optimizer):\n",
    "    model = create_model(lr=.001, optimizer=optimizer)\n",
    "    res = model.fit(X_train, y_train, epochs=5,\n",
    "                   validation_data=(X_test, y_test),\n",
    "                   batch_size=32)\n",
    "    return res"
   ]
  },
  {
   "cell_type": "code",
   "execution_count": 37,
   "metadata": {},
   "outputs": [
    {
     "name": "stdout",
     "output_type": "stream",
     "text": [
      "Epoch 1/5\n",
      "2500/2500 [==============================] - 6s 2ms/step - loss: 4.6155 - accuracy: 0.2266 - val_loss: 1.9106 - val_accuracy: 0.2690\n",
      "Epoch 2/5\n",
      "2500/2500 [==============================] - 6s 3ms/step - loss: 1.7396 - accuracy: 0.3334 - val_loss: 1.5119 - val_accuracy: 0.4316\n",
      "Epoch 3/5\n",
      "2500/2500 [==============================] - 5s 2ms/step - loss: 1.4211 - accuracy: 0.4583 - val_loss: 1.2731 - val_accuracy: 0.5483\n",
      "Epoch 4/5\n",
      "2500/2500 [==============================] - 6s 2ms/step - loss: 1.0780 - accuracy: 0.6327 - val_loss: 0.8806 - val_accuracy: 0.7503\n",
      "Epoch 5/5\n",
      "2500/2500 [==============================] - 6s 2ms/step - loss: 0.7866 - accuracy: 0.7700 - val_loss: 0.7553 - val_accuracy: 0.7828\n",
      "Epoch 1/5\n",
      "2500/2500 [==============================] - 7s 3ms/step - loss: 3.6822 - accuracy: 0.1666 - val_loss: 1.9642 - val_accuracy: 0.2750\n",
      "Epoch 2/5\n",
      "2500/2500 [==============================] - 6s 2ms/step - loss: 1.8686 - accuracy: 0.3217 - val_loss: 1.7548 - val_accuracy: 0.3850\n",
      "Epoch 3/5\n",
      "2500/2500 [==============================] - 6s 2ms/step - loss: 1.6633 - accuracy: 0.3908 - val_loss: 1.6072 - val_accuracy: 0.4060\n",
      "Epoch 4/5\n",
      "2500/2500 [==============================] - 6s 3ms/step - loss: 1.5586 - accuracy: 0.4257 - val_loss: 1.5029 - val_accuracy: 0.5058\n",
      "Epoch 5/5\n",
      "2500/2500 [==============================] - 6s 2ms/step - loss: 1.3773 - accuracy: 0.5099 - val_loss: 1.3527 - val_accuracy: 0.5277\n",
      "Epoch 1/5\n",
      "2500/2500 [==============================] - 6s 2ms/step - loss: 8.6065 - accuracy: 0.1860 - val_loss: 2.2017 - val_accuracy: 0.1985\n",
      "Epoch 2/5\n",
      "2500/2500 [==============================] - 6s 2ms/step - loss: 2.1589 - accuracy: 0.2081 - val_loss: 2.1232 - val_accuracy: 0.2180\n",
      "Epoch 3/5\n",
      "2500/2500 [==============================] - 6s 3ms/step - loss: 2.0900 - accuracy: 0.2257 - val_loss: 2.0847 - val_accuracy: 0.2284\n",
      "Epoch 4/5\n",
      "2500/2500 [==============================] - 7s 3ms/step - loss: 2.0527 - accuracy: 0.2338 - val_loss: 2.0622 - val_accuracy: 0.2342\n",
      "Epoch 5/5\n",
      "2500/2500 [==============================] - 7s 3ms/step - loss: 2.0268 - accuracy: 0.2397 - val_loss: 2.0412 - val_accuracy: 0.2389\n",
      "Epoch 1/5\n",
      "2500/2500 [==============================] - 7s 3ms/step - loss: 5.0812 - accuracy: 0.2967 - val_loss: 1.6607 - val_accuracy: 0.4155\n",
      "Epoch 2/5\n",
      "2500/2500 [==============================] - 7s 3ms/step - loss: 1.5652 - accuracy: 0.4533 - val_loss: 1.4491 - val_accuracy: 0.5039\n",
      "Epoch 3/5\n",
      "2500/2500 [==============================] - 6s 2ms/step - loss: 1.3521 - accuracy: 0.5361 - val_loss: 1.3157 - val_accuracy: 0.5882\n",
      "Epoch 4/5\n",
      "2500/2500 [==============================] - 7s 3ms/step - loss: 1.1921 - accuracy: 0.5955 - val_loss: 1.2162 - val_accuracy: 0.6152\n",
      "Epoch 5/5\n",
      "2500/2500 [==============================] - 7s 3ms/step - loss: 1.0820 - accuracy: 0.6374 - val_loss: 1.1172 - val_accuracy: 0.6396\n",
      "Epoch 1/5\n",
      "2500/2500 [==============================] - 8s 3ms/step - loss: 3.2078 - accuracy: 0.2726 - val_loss: 1.9028 - val_accuracy: 0.3599\n",
      "Epoch 2/5\n",
      "2500/2500 [==============================] - 8s 3ms/step - loss: 1.8159 - accuracy: 0.3480 - val_loss: 1.8153 - val_accuracy: 0.3451\n",
      "Epoch 3/5\n",
      "2500/2500 [==============================] - 7s 3ms/step - loss: 1.7812 - accuracy: 0.3556 - val_loss: 1.8285 - val_accuracy: 0.3580\n",
      "Epoch 4/5\n",
      "2500/2500 [==============================] - 7s 3ms/step - loss: 1.7997 - accuracy: 0.3632 - val_loss: 1.8071 - val_accuracy: 0.3329\n",
      "Epoch 5/5\n",
      "2500/2500 [==============================] - 6s 2ms/step - loss: 1.7912 - accuracy: 0.3579 - val_loss: 2.2751 - val_accuracy: 0.3532\n"
     ]
    }
   ],
   "source": [
    "adam_ = change_opt(optimizer=Adam)\n",
    "sgd_ = change_opt(optimizer=SGD)\n",
    "grad_ = change_opt(optimizer=Adagrad)\n",
    "max_ = change_opt(optimizer=Adamax)\n",
    "prop_ = change_opt(optimizer=RMSprop)"
   ]
  },
  {
   "cell_type": "code",
   "execution_count": 38,
   "metadata": {},
   "outputs": [
    {
     "data": {
      "text/html": [
       "<div>\n",
       "<style scoped>\n",
       "    .dataframe tbody tr th:only-of-type {\n",
       "        vertical-align: middle;\n",
       "    }\n",
       "\n",
       "    .dataframe tbody tr th {\n",
       "        vertical-align: top;\n",
       "    }\n",
       "\n",
       "    .dataframe thead th {\n",
       "        text-align: right;\n",
       "    }\n",
       "</style>\n",
       "<table border=\"1\" class=\"dataframe\">\n",
       "  <thead>\n",
       "    <tr style=\"text-align: right;\">\n",
       "      <th></th>\n",
       "      <th>loss</th>\n",
       "      <th>accuracy</th>\n",
       "      <th>val_loss</th>\n",
       "      <th>val_accuracy</th>\n",
       "      <th>epoch</th>\n",
       "      <th>Optimizer</th>\n",
       "    </tr>\n",
       "  </thead>\n",
       "  <tbody>\n",
       "    <tr>\n",
       "      <th>0</th>\n",
       "      <td>2.403433</td>\n",
       "      <td>0.253188</td>\n",
       "      <td>1.910589</td>\n",
       "      <td>0.26900</td>\n",
       "      <td>0</td>\n",
       "      <td>adam</td>\n",
       "    </tr>\n",
       "    <tr>\n",
       "      <th>1</th>\n",
       "      <td>1.678937</td>\n",
       "      <td>0.356587</td>\n",
       "      <td>1.511892</td>\n",
       "      <td>0.43160</td>\n",
       "      <td>1</td>\n",
       "      <td>adam</td>\n",
       "    </tr>\n",
       "    <tr>\n",
       "      <th>2</th>\n",
       "      <td>1.359952</td>\n",
       "      <td>0.493550</td>\n",
       "      <td>1.273067</td>\n",
       "      <td>0.54830</td>\n",
       "      <td>2</td>\n",
       "      <td>adam</td>\n",
       "    </tr>\n",
       "    <tr>\n",
       "      <th>3</th>\n",
       "      <td>1.002668</td>\n",
       "      <td>0.672538</td>\n",
       "      <td>0.880596</td>\n",
       "      <td>0.75035</td>\n",
       "      <td>3</td>\n",
       "      <td>adam</td>\n",
       "    </tr>\n",
       "    <tr>\n",
       "      <th>4</th>\n",
       "      <td>0.768217</td>\n",
       "      <td>0.774575</td>\n",
       "      <td>0.755340</td>\n",
       "      <td>0.78275</td>\n",
       "      <td>4</td>\n",
       "      <td>adam</td>\n",
       "    </tr>\n",
       "  </tbody>\n",
       "</table>\n",
       "</div>"
      ],
      "text/plain": [
       "       loss  accuracy  val_loss  val_accuracy  epoch Optimizer\n",
       "0  2.403433  0.253188  1.910589       0.26900      0      adam\n",
       "1  1.678937  0.356587  1.511892       0.43160      1      adam\n",
       "2  1.359952  0.493550  1.273067       0.54830      2      adam\n",
       "3  1.002668  0.672538  0.880596       0.75035      3      adam\n",
       "4  0.768217  0.774575  0.755340       0.78275      4      adam"
      ]
     },
     "execution_count": 38,
     "metadata": {},
     "output_type": "execute_result"
    }
   ],
   "source": [
    "op_sizes = []\n",
    "\n",
    "for exp, result in zip([adam_, sgd_, grad_, max_, prop_], [\"adam\", \"sgd\", \"adagrad\", \"adamax\", \"rmsprop\"]):\n",
    "\n",
    "    opdf = pd.DataFrame.from_dict(exp.history)\n",
    "    opdf['epoch'] = opdf.index.values\n",
    "    opdf['Optimizer'] = result\n",
    "\n",
    "    op_sizes.append(opdf)\n",
    "\n",
    "opdf = pd.concat(op_sizes)\n",
    "opdf['Optimizer'] = opdf['Optimizer'].astype('str')\n",
    "opdf.head()"
   ]
  },
  {
   "cell_type": "code",
   "execution_count": 39,
   "metadata": {},
   "outputs": [
    {
     "data": {
      "image/png": "[encoded data removed]",
      "text/plain": [
       "<Figure size 432x288 with 1 Axes>"
      ]
     },
     "metadata": {
      "needs_background": "light"
     },
     "output_type": "display_data"
    }
   ],
   "source": [
    "sns.lineplot(x='epoch', y='val_accuracy', hue='Optimizer', data=opdf);"
   ]
  },
  {
   "cell_type": "code",
   "execution_count": 40,
   "metadata": {},
   "outputs": [
    {
     "data": {
      "image/png": "[encoded data removed]",
      "text/plain": [
       "<Figure size 432x288 with 1 Axes>"
      ]
     },
     "metadata": {
      "needs_background": "light"
     },
     "output_type": "display_data"
    }
   ],
   "source": [
    "sns.lineplot(x='epoch', y='val_loss', hue='Optimizer', data=opdf);"
   ]
  },
  {
   "cell_type": "markdown",
   "metadata": {
    "colab_type": "text",
    "id": "ydAqeY9S8uHA"
   },
   "source": [
    "### Additional Written Tasks\n",
    "\n",
    "1. Describe the process of backpropagation in your own words: \n",
    "```\n",
    "Back propagation is kind of the whole point of gradient descent. After a batch is sent thru the network, the model calculates the loss function / error. back propagation takes that error and adjusts the weights at the input layer according to the learning rate & where it thinks the global minimum is.\n",
    "```\n",
    "\n"
   ]
  },
  {
   "cell_type": "markdown",
   "metadata": {
    "colab_type": "text",
    "id": "FwlRJSfBlCvy"
   },
   "source": [
    "## Stretch Goals: \n",
    "\n",
    "- Implement GridSearch on anyone of the experiments\n",
    "- On the learning rate experiments, implement [EarlyStopping](https://www.tensorflow.org/api_docs/python/tf/keras/callbacks/EarlyStopping)\n",
    "- Review material on the math behind gradient descent: \n",
    "\n",
    "  - Gradient Descent\n",
    "    - Gradient Descent, Step-by-Step  by StatQuest w/ Josh Starmer. This will help you understand the gradient descent based optimization that happens underneath the hood of neural networks. It uses a non-neural network example, which I believe is a gentler introduction. You will hear me refer to this technique as \"vanilla\" gradient descent. \n",
    "    - Stochastic Gradient Descent, Clearly Explained!!! by StatQuest w/ Josh Starmer. This builds on the techniques in the previous video.  This technique is the one that is actually implemented inside modern 'nets. \n",
    "These are great resources to help you understand tomorrow's material at a deeper level. I highly recommend watching these ahead of tomorrow.\n",
    "\n",
    "  - Background Math\n",
    "    - Dot products and duality by 3Blue1Brown. Explains the core linear algebra operation happening in today's perceptron.\n",
    "The paradox of the derivative by 3Blue1Brown. Does a great job explaining a derivative. \n",
    "    - Visualizing the chain rule and product rule by 3Blue1Brown. Explains the black magic that happens within Stochastic Gradient Descent. \n",
    "These math resources are very much optional. They can be very heady, but I encourage you to explore. Your understanding of neural networks will greatly increase if you understand this math background.\n",
    "\n",
    "\n"
   ]
  }
 ],
 "metadata": {
  "colab": {
   "collapsed_sections": [],
   "name": "LS_DS_432_Train_Assignment.ipynb",
   "provenance": []
  },
  "kernelspec": {
   "display_name": "Python 3",
   "language": "python",
   "name": "python3"
  },
  "language_info": {
   "codemirror_mode": {
    "name": "ipython",
    "version": 3
   },
   "file_extension": ".py",
   "mimetype": "text/x-python",
   "name": "python",
   "nbconvert_exporter": "python",
   "pygments_lexer": "ipython3",
   "version": "3.8.6"
  },
  "nteract": {
   "version": "0.22.4"
  }
 },
 "nbformat": 4,
 "nbformat_minor": 1
}
