{
 "cells": [
  {
   "cell_type": "markdown",
   "metadata": {
    "colab_type": "text",
    "id": "ObyHCH8HvHSf"
   },
   "source": [
    "<img align=\"left\" src=\"https://lever-client-logos.s3.amazonaws.com/864372b1-534c-480e-acd5-9711f850815c-1524247202159.png\" width=200>\n",
    "<br></br>\n",
    "<br></br>\n",
    "\n",
    "# *Data Science Unit 4 Sprint 2 Assignment 1*\n",
    "\n",
    "Use TensorFlow Keras & a sample of the [Quickdraw dataset](https://github.com/googlecreativelab/quickdraw-dataset) to build a sketch classification model. The dataset has been sampled to only 10 classes and 10000 observations per class. Please build a baseline classification model then run a few experiments with different optimizers and learning rates. \n",
    "\n",
    "*Don't forgot to switch to GPU on Colab!*"
   ]
  },
  {
   "cell_type": "markdown",
   "metadata": {
    "colab_type": "text",
    "id": "s-Tc3ovEyQ9b"
   },
   "source": [
    "## Load Your Data"
   ]
  },
  {
   "cell_type": "code",
   "execution_count": 5,
   "metadata": {
    "colab": {},
    "colab_type": "code",
    "id": "CkU0pAYCvU8o"
   },
   "outputs": [
    {
     "name": "stdout",
     "output_type": "stream",
     "text": [
      "(100000, 784)\n",
      "(100000,)\n"
     ]
    }
   ],
   "source": [
    "import numpy as np\n",
    "import tensorflow as tf \n",
    "path = '/Users/don/Desktop/u4w2/DS-Unit-4-Sprint-2-Neural-Networks/quickdraw10.npz'\n",
    "data = np.load(path)\n",
    "X = data['arr_0']\n",
    "y = data['arr_1']\n",
    "\n",
    "print(X.shape)\n",
    "print(y.shape)"
   ]
  },
  {
   "cell_type": "code",
   "execution_count": 6,
   "metadata": {
    "colab": {},
    "colab_type": "code",
    "id": "c8qsDqdqvHDd"
   },
   "outputs": [],
   "source": [
    "class_names = ['apple',\n",
    " 'anvil',\n",
    " 'airplane',\n",
    " 'banana',\n",
    " 'The Eiffel Tower',\n",
    " 'The Mona Lisa',\n",
    " 'The Great Wall of China',\n",
    " 'alarm clock',\n",
    " 'ant',\n",
    " 'asparagus']"
   ]
  },
  {
   "cell_type": "code",
   "execution_count": 7,
   "metadata": {
    "colab": {},
    "colab_type": "code",
    "id": "Owbm1EbxvA5A"
   },
   "outputs": [
    {
     "data": {
      "image/png": "[encoded data removed]",
      "text/plain": [
       "<Figure size 720x360 with 10 Axes>"
      ]
     },
     "metadata": {},
     "output_type": "display_data"
    }
   ],
   "source": [
    "import matplotlib.pyplot as plt\n",
    "plt.figure(figsize=(10,5))\n",
    "start = 0\n",
    "\n",
    "for num, name in enumerate(class_names):\n",
    "    plt.subplot(2,5, num+1)\n",
    "    plt.xticks([])\n",
    "    plt.yticks([])\n",
    "    plt.grid(False)\n",
    "    plt.imshow(X[start].reshape(28,28), cmap=plt.cm.binary)\n",
    "    plt.xlabel(name)\n",
    "    start += 10000\n",
    "plt.show()"
   ]
  },
  {
   "cell_type": "code",
   "execution_count": 8,
   "metadata": {
    "colab": {},
    "colab_type": "code",
    "id": "c97_M1WNvTNY"
   },
   "outputs": [],
   "source": [
    "# Need this line to randomly shuffle both the X & y at the same time.\n",
    "\n",
    "from sklearn.utils import shuffle\n",
    "X, y = shuffle(X, y)"
   ]
  },
  {
   "cell_type": "markdown",
   "metadata": {
    "colab_type": "text",
    "id": "jb70CbLVyK65"
   },
   "source": [
    "## Build Your Baseline Model\n",
    "Some Hints:\n",
    "\n",
    "\n",
    "*  Model should have 784 input values (like mnist)\n",
    "*  Use `sparse_categorical_crossentropy` as your loss function.\n",
    "* You need 10 neurons in your last layer for output\n",
    "* You can add as many hidden layers with as many neurons in them as you like. \n",
    "* Limit your model epochs to 30 each time you fit.\n",
    "* You can use the `validation_split` command to automatically create a training / validation dataset.  Specify a percentage such as .2 in your fit statement. \n",
    "\n"
   ]
  },
  {
   "cell_type": "code",
   "execution_count": 12,
   "metadata": {},
   "outputs": [],
   "source": [
    "from sklearn.model_selection import train_test_split\n",
    "X_train, X_test, y_train, y_test = train_test_split(X, y, test_size=.2, random_state=12)"
   ]
  },
  {
   "cell_type": "code",
   "execution_count": 15,
   "metadata": {
    "colab": {},
    "colab_type": "code",
    "id": "zHWblzsMyNkU"
   },
   "outputs": [
    {
     "name": "stdout",
     "output_type": "stream",
     "text": [
      "Epoch 1/30\n",
      "2500/2500 [==============================] - 4s 2ms/step - loss: 4.5651 - accuracy: 0.2270 - val_loss: 1.7354 - val_accuracy: 0.3596\n",
      "Epoch 2/30\n",
      "2500/2500 [==============================] - 4s 1ms/step - loss: 1.6100 - accuracy: 0.3947 - val_loss: 1.4681 - val_accuracy: 0.4409\n",
      "Epoch 3/30\n",
      "2500/2500 [==============================] - 4s 1ms/step - loss: 1.4204 - accuracy: 0.4598 - val_loss: 1.3738 - val_accuracy: 0.4829\n",
      "Epoch 4/30\n",
      "2500/2500 [==============================] - 4s 2ms/step - loss: 1.3364 - accuracy: 0.4963 - val_loss: 1.2733 - val_accuracy: 0.5572\n",
      "Epoch 5/30\n",
      "2500/2500 [==============================] - 4s 1ms/step - loss: 1.2468 - accuracy: 0.5438 - val_loss: 1.2079 - val_accuracy: 0.5671\n",
      "Epoch 6/30\n",
      "2500/2500 [==============================] - 4s 1ms/step - loss: 1.2036 - accuracy: 0.5686 - val_loss: 1.1733 - val_accuracy: 0.5899\n",
      "Epoch 7/30\n",
      "2500/2500 [==============================] - 4s 1ms/step - loss: 1.1825 - accuracy: 0.5797 - val_loss: 1.1924 - val_accuracy: 0.5740\n",
      "Epoch 8/30\n",
      "2500/2500 [==============================] - 4s 1ms/step - loss: 1.1803 - accuracy: 0.5801 - val_loss: 1.1752 - val_accuracy: 0.6051\n",
      "Epoch 9/30\n",
      "2500/2500 [==============================] - 4s 2ms/step - loss: 1.1545 - accuracy: 0.6172 - val_loss: 1.1707 - val_accuracy: 0.5944\n",
      "Epoch 10/30\n",
      "2500/2500 [==============================] - 4s 1ms/step - loss: 1.1436 - accuracy: 0.6240 - val_loss: 1.1501 - val_accuracy: 0.6314\n",
      "Epoch 11/30\n",
      "2500/2500 [==============================] - 4s 1ms/step - loss: 1.1395 - accuracy: 0.6218 - val_loss: 1.1866 - val_accuracy: 0.6316\n",
      "Epoch 12/30\n",
      "2500/2500 [==============================] - 4s 2ms/step - loss: 1.1289 - accuracy: 0.6282 - val_loss: 1.1408 - val_accuracy: 0.6295\n",
      "Epoch 13/30\n",
      "2500/2500 [==============================] - 4s 2ms/step - loss: 1.1285 - accuracy: 0.6296 - val_loss: 1.1503 - val_accuracy: 0.6298\n",
      "Epoch 14/30\n",
      "2500/2500 [==============================] - 4s 2ms/step - loss: 1.1263 - accuracy: 0.6293 - val_loss: 1.1802 - val_accuracy: 0.6303\n",
      "Epoch 15/30\n",
      "2500/2500 [==============================] - 4s 2ms/step - loss: 1.1162 - accuracy: 0.6344 - val_loss: 1.1425 - val_accuracy: 0.6436\n",
      "Epoch 16/30\n",
      "2500/2500 [==============================] - 4s 2ms/step - loss: 1.1141 - accuracy: 0.6397 - val_loss: 1.1774 - val_accuracy: 0.6319\n",
      "Epoch 17/30\n",
      "2500/2500 [==============================] - 4s 2ms/step - loss: 1.1118 - accuracy: 0.6382 - val_loss: 1.1540 - val_accuracy: 0.6385\n",
      "Epoch 18/30\n",
      "2500/2500 [==============================] - 4s 2ms/step - loss: 1.1080 - accuracy: 0.6382 - val_loss: 1.1512 - val_accuracy: 0.6331\n",
      "Epoch 19/30\n",
      "2500/2500 [==============================] - 4s 2ms/step - loss: 1.0967 - accuracy: 0.6466 - val_loss: 1.1286 - val_accuracy: 0.6521\n",
      "Epoch 20/30\n",
      "2500/2500 [==============================] - 4s 2ms/step - loss: 1.0905 - accuracy: 0.6462 - val_loss: 1.1431 - val_accuracy: 0.6393\n",
      "Epoch 21/30\n",
      "2500/2500 [==============================] - 4s 2ms/step - loss: 1.0941 - accuracy: 0.6467 - val_loss: 1.1248 - val_accuracy: 0.6418\n",
      "Epoch 22/30\n",
      "2500/2500 [==============================] - 4s 2ms/step - loss: 1.0860 - accuracy: 0.6559 - val_loss: 1.0800 - val_accuracy: 0.6689\n",
      "Epoch 23/30\n",
      "2500/2500 [==============================] - 4s 2ms/step - loss: 1.0730 - accuracy: 0.6594 - val_loss: 1.0843 - val_accuracy: 0.6726\n",
      "Epoch 24/30\n",
      "2500/2500 [==============================] - 4s 2ms/step - loss: 1.0602 - accuracy: 0.6611 - val_loss: 1.0885 - val_accuracy: 0.6679\n",
      "Epoch 25/30\n",
      "2500/2500 [==============================] - 4s 2ms/step - loss: 1.0467 - accuracy: 0.6653 - val_loss: 1.0542 - val_accuracy: 0.6877\n",
      "Epoch 26/30\n",
      "2500/2500 [==============================] - 4s 1ms/step - loss: 1.0375 - accuracy: 0.6677 - val_loss: 1.0803 - val_accuracy: 0.6658\n",
      "Epoch 27/30\n",
      "2500/2500 [==============================] - 4s 1ms/step - loss: 1.0325 - accuracy: 0.6662 - val_loss: 1.1171 - val_accuracy: 0.6651\n",
      "Epoch 28/30\n",
      "2500/2500 [==============================] - 4s 1ms/step - loss: 1.0344 - accuracy: 0.6652 - val_loss: 1.0530 - val_accuracy: 0.6515\n",
      "Epoch 29/30\n",
      "2500/2500 [==============================] - 4s 1ms/step - loss: 1.0285 - accuracy: 0.6682 - val_loss: 1.0802 - val_accuracy: 0.6672\n",
      "Epoch 30/30\n",
      "2500/2500 [==============================] - 4s 1ms/step - loss: 1.0204 - accuracy: 0.6700 - val_loss: 1.0910 - val_accuracy: 0.6824\n"
     ]
    }
   ],
   "source": [
    "import tensorflow as tf\n",
    "from tensorflow.keras.models import Sequential\n",
    "from tensorflow.keras.layers import Dense\n",
    "model = Sequential()\n",
    "model.add(Dense(30, activation='relu', input_dim=784))\n",
    "model.add(Dense(10, activation='softmax'))\n",
    "model.compile(optimizer='adam', loss='sparse_categorical_crossentropy', metrics=['accuracy'])\n",
    "\n",
    "baseline = model.fit(X_train, y_train, epochs=30, validation_data=(X_test, y_test))"
   ]
  },
  {
   "cell_type": "markdown",
   "metadata": {
    "colab_type": "text",
    "id": "b0QJURWh-9uv"
   },
   "source": [
    "### Visualize the results\n",
    "\n",
    "Create charts for both loss and accuracy by epoch. Use line graphs for both charts. Analyze the results. \n",
    "\n",
    "At what point should we have stopped training the model and why? "
   ]
  },
  {
   "cell_type": "code",
   "execution_count": 16,
   "metadata": {
    "colab": {},
    "colab_type": "code",
    "id": "KONJtU5wqlXf"
   },
   "outputs": [
    {
     "data": {
      "text/plain": [
       "{'loss': [2.341984987258911,\n",
       "  1.563536524772644,\n",
       "  1.4083476066589355,\n",
       "  1.3169835805892944,\n",
       "  1.2481242418289185,\n",
       "  1.2063935995101929,\n",
       "  1.1857757568359375,\n",
       "  1.1790205240249634,\n",
       "  1.162182092666626,\n",
       "  1.1496520042419434,\n",
       "  1.1452397108078003,\n",
       "  1.1426522731781006,\n",
       "  1.1361254453659058,\n",
       "  1.1335173845291138,\n",
       "  1.1225056648254395,\n",
       "  1.1135544776916504,\n",
       "  1.1165584325790405,\n",
       "  1.1138540506362915,\n",
       "  1.1057605743408203,\n",
       "  1.1011985540390015,\n",
       "  1.094314694404602,\n",
       "  1.0840896368026733,\n",
       "  1.0691940784454346,\n",
       "  1.0548099279403687,\n",
       "  1.049385905265808,\n",
       "  1.0412919521331787,\n",
       "  1.0404212474822998,\n",
       "  1.0390857458114624,\n",
       "  1.0342388153076172,\n",
       "  1.0367122888565063],\n",
       " 'accuracy': [0.28497499227523804,\n",
       "  0.41058748960494995,\n",
       "  0.47072499990463257,\n",
       "  0.5115749835968018,\n",
       "  0.5499374866485596,\n",
       "  0.5698000192642212,\n",
       "  0.5782874822616577,\n",
       "  0.5885499715805054,\n",
       "  0.616937518119812,\n",
       "  0.622487485408783,\n",
       "  0.6216375231742859,\n",
       "  0.6249250173568726,\n",
       "  0.6280875205993652,\n",
       "  0.6291875243186951,\n",
       "  0.6343749761581421,\n",
       "  0.6393625140190125,\n",
       "  0.6383249759674072,\n",
       "  0.6397125124931335,\n",
       "  0.6424624919891357,\n",
       "  0.6441500186920166,\n",
       "  0.6476250290870667,\n",
       "  0.6571499705314636,\n",
       "  0.658762514591217,\n",
       "  0.6641374826431274,\n",
       "  0.664650022983551,\n",
       "  0.6650500297546387,\n",
       "  0.6630125045776367,\n",
       "  0.6654750108718872,\n",
       "  0.6672875285148621,\n",
       "  0.665862500667572],\n",
       " 'val_loss': [1.735419750213623,\n",
       "  1.4680532217025757,\n",
       "  1.373818039894104,\n",
       "  1.2732980251312256,\n",
       "  1.207923173904419,\n",
       "  1.1732791662216187,\n",
       "  1.1924034357070923,\n",
       "  1.1752084493637085,\n",
       "  1.1707371473312378,\n",
       "  1.150102972984314,\n",
       "  1.1865581274032593,\n",
       "  1.1407661437988281,\n",
       "  1.1503007411956787,\n",
       "  1.1802223920822144,\n",
       "  1.142521619796753,\n",
       "  1.1773635149002075,\n",
       "  1.1540238857269287,\n",
       "  1.1512383222579956,\n",
       "  1.1285717487335205,\n",
       "  1.143148422241211,\n",
       "  1.1248079538345337,\n",
       "  1.079956293106079,\n",
       "  1.0842983722686768,\n",
       "  1.0884990692138672,\n",
       "  1.05417799949646,\n",
       "  1.0803200006484985,\n",
       "  1.117095947265625,\n",
       "  1.053025245666504,\n",
       "  1.0802028179168701,\n",
       "  1.0909875631332397],\n",
       " 'val_accuracy': [0.35964998602867126,\n",
       "  0.4408999979496002,\n",
       "  0.4828999936580658,\n",
       "  0.557200014591217,\n",
       "  0.5671499967575073,\n",
       "  0.589900016784668,\n",
       "  0.5740000009536743,\n",
       "  0.6050999760627747,\n",
       "  0.5943999886512756,\n",
       "  0.6314499974250793,\n",
       "  0.631600022315979,\n",
       "  0.6295499801635742,\n",
       "  0.6298499703407288,\n",
       "  0.630299985408783,\n",
       "  0.6435999870300293,\n",
       "  0.6319000124931335,\n",
       "  0.6384999752044678,\n",
       "  0.6330500245094299,\n",
       "  0.6521000266075134,\n",
       "  0.6393499970436096,\n",
       "  0.6417999863624573,\n",
       "  0.6689000129699707,\n",
       "  0.6725999712944031,\n",
       "  0.667900025844574,\n",
       "  0.6876500248908997,\n",
       "  0.6657500267028809,\n",
       "  0.6650500297546387,\n",
       "  0.6514999866485596,\n",
       "  0.6672499775886536,\n",
       "  0.6823999881744385]}"
      ]
     },
     "execution_count": 16,
     "metadata": {},
     "output_type": "execute_result"
    }
   ],
   "source": [
    "baseline.history"
   ]
  },
  {
   "cell_type": "code",
   "execution_count": 19,
   "metadata": {
    "colab": {},
    "colab_type": "code",
    "id": "ijAlzfYKAFaY"
   },
   "outputs": [
    {
     "data": {
      "image/png": "[encoded data removed]",
      "text/plain": [
       "<Figure size 432x288 with 1 Axes>"
      ]
     },
     "metadata": {
      "needs_background": "light"
     },
     "output_type": "display_data"
    }
   ],
   "source": [
    "import seaborn as sns\n",
    "import pandas as pd\n",
    "\n",
    "df = pd.DataFrame.from_records(baseline.history)\n",
    "df['epoch'] = [i for i in range(df.shape[0])]\n",
    "\n",
    "ax = sns.lineplot(x='epoch', y='val_loss', data=df)\n",
    "ax = sns.lineplot(x='epoch', y='loss', data=df);"
   ]
  },
  {
   "cell_type": "markdown",
   "metadata": {
    "colab_type": "text",
    "id": "MAhBrcE4yOZe"
   },
   "source": [
    "## Change Optimizers\n",
    "Try using the keras `adam` optimizer instead of `sgd` in your model. Visualize the difference in validation loss between the models with different optimizers. "
   ]
  },
  {
   "cell_type": "code",
   "execution_count": 21,
   "metadata": {
    "colab": {},
    "colab_type": "code",
    "id": "jIW_spOZ0cxy"
   },
   "outputs": [
    {
     "name": "stdout",
     "output_type": "stream",
     "text": [
      "Epoch 1/30\n",
      "2500/2500 [==============================] - 4s 2ms/step - loss: 26.9932 - accuracy: 0.1023 - val_loss: 2.3039 - val_accuracy: 0.1001\n",
      "Epoch 2/30\n",
      "2500/2500 [==============================] - 3s 1ms/step - loss: 2.3029 - accuracy: 0.0997 - val_loss: 2.3040 - val_accuracy: 0.0961\n",
      "Epoch 3/30\n",
      "2500/2500 [==============================] - 3s 1ms/step - loss: 2.3020 - accuracy: 0.1013 - val_loss: 2.3039 - val_accuracy: 0.0993\n",
      "Epoch 4/30\n",
      "2500/2500 [==============================] - 4s 2ms/step - loss: 2.3025 - accuracy: 0.0991 - val_loss: 2.3040 - val_accuracy: 0.0985\n",
      "Epoch 5/30\n",
      "2500/2500 [==============================] - 4s 1ms/step - loss: 2.3025 - accuracy: 0.0969 - val_loss: 2.3039 - val_accuracy: 0.0961\n",
      "Epoch 6/30\n",
      "2500/2500 [==============================] - 4s 1ms/step - loss: 2.3026 - accuracy: 0.1019 - val_loss: 2.3039 - val_accuracy: 0.0961\n",
      "Epoch 7/30\n",
      "2500/2500 [==============================] - 3s 1ms/step - loss: 2.3027 - accuracy: 0.0988 - val_loss: 2.3041 - val_accuracy: 0.0961\n",
      "Epoch 8/30\n",
      "2500/2500 [==============================] - 3s 1ms/step - loss: 2.3026 - accuracy: 0.0988 - val_loss: 2.3040 - val_accuracy: 0.0961\n",
      "Epoch 9/30\n",
      "2500/2500 [==============================] - 3s 1ms/step - loss: 2.3025 - accuracy: 0.0991 - val_loss: 2.3037 - val_accuracy: 0.0994\n",
      "Epoch 10/30\n",
      "2500/2500 [==============================] - 3s 1ms/step - loss: 2.3031 - accuracy: 0.1020 - val_loss: 2.3037 - val_accuracy: 0.0996\n",
      "Epoch 11/30\n",
      "2500/2500 [==============================] - 3s 1ms/step - loss: 2.3025 - accuracy: 0.0993 - val_loss: 2.3038 - val_accuracy: 0.0961\n",
      "Epoch 12/30\n",
      "2500/2500 [==============================] - 3s 1ms/step - loss: 2.3024 - accuracy: 0.1024 - val_loss: 2.3005 - val_accuracy: 0.1023\n",
      "Epoch 13/30\n",
      "2500/2500 [==============================] - 3s 1ms/step - loss: 2.3027 - accuracy: 0.1000 - val_loss: 2.3005 - val_accuracy: 0.0977\n",
      "Epoch 14/30\n",
      "2500/2500 [==============================] - 3s 1ms/step - loss: 2.2975 - accuracy: 0.1033 - val_loss: 2.2956 - val_accuracy: 0.0999\n",
      "Epoch 15/30\n",
      "2500/2500 [==============================] - 3s 1ms/step - loss: 2.2957 - accuracy: 0.1059 - val_loss: 2.2837 - val_accuracy: 0.1063\n",
      "Epoch 16/30\n",
      "2500/2500 [==============================] - 3s 1ms/step - loss: 2.2888 - accuracy: 0.1064 - val_loss: 2.2720 - val_accuracy: 0.1111\n",
      "Epoch 17/30\n",
      "2500/2500 [==============================] - 3s 1ms/step - loss: 2.2805 - accuracy: 0.1141 - val_loss: 2.2796 - val_accuracy: 0.1116\n",
      "Epoch 18/30\n",
      "2500/2500 [==============================] - 4s 2ms/step - loss: 2.2788 - accuracy: 0.1117 - val_loss: 2.2922 - val_accuracy: 0.1150\n",
      "Epoch 19/30\n",
      "2500/2500 [==============================] - 4s 1ms/step - loss: 2.2839 - accuracy: 0.1100 - val_loss: 2.2852 - val_accuracy: 0.1089\n",
      "Epoch 20/30\n",
      "2500/2500 [==============================] - 4s 2ms/step - loss: 2.2795 - accuracy: 0.1125 - val_loss: 2.4644 - val_accuracy: 0.0982\n",
      "Epoch 21/30\n",
      "2500/2500 [==============================] - 4s 1ms/step - loss: 2.2781 - accuracy: 0.1116 - val_loss: 2.2894 - val_accuracy: 0.1050\n",
      "Epoch 22/30\n",
      "2500/2500 [==============================] - 4s 1ms/step - loss: 2.2803 - accuracy: 0.1100 - val_loss: 2.2755 - val_accuracy: 0.1142\n",
      "Epoch 23/30\n",
      "2500/2500 [==============================] - 3s 1ms/step - loss: 2.2712 - accuracy: 0.1173 - val_loss: 2.2757 - val_accuracy: 0.1174\n",
      "Epoch 24/30\n",
      "2500/2500 [==============================] - 3s 1ms/step - loss: 2.2656 - accuracy: 0.1182 - val_loss: 2.2825 - val_accuracy: 0.1129\n",
      "Epoch 25/30\n",
      "2500/2500 [==============================] - 4s 2ms/step - loss: 2.2760 - accuracy: 0.1154 - val_loss: 2.2882 - val_accuracy: 0.1161\n",
      "Epoch 26/30\n",
      "2500/2500 [==============================] - 4s 1ms/step - loss: 2.2739 - accuracy: 0.1178 - val_loss: 2.2819 - val_accuracy: 0.1129\n",
      "Epoch 27/30\n",
      "2500/2500 [==============================] - 3s 1ms/step - loss: 2.2784 - accuracy: 0.1121 - val_loss: 2.2860 - val_accuracy: 0.1050\n",
      "Epoch 28/30\n",
      "2500/2500 [==============================] - 4s 1ms/step - loss: 2.2755 - accuracy: 0.1123 - val_loss: 2.2954 - val_accuracy: 0.1176\n",
      "Epoch 29/30\n",
      "2500/2500 [==============================] - 4s 1ms/step - loss: 2.2698 - accuracy: 0.1155 - val_loss: 2.2793 - val_accuracy: 0.1103\n",
      "Epoch 30/30\n",
      "2500/2500 [==============================] - 4s 1ms/step - loss: 2.2701 - accuracy: 0.1155 - val_loss: 2.2833 - val_accuracy: 0.1134\n"
     ]
    }
   ],
   "source": [
    "model = Sequential()\n",
    "model.add(Dense(30, activation='relu', input_dim=784))\n",
    "model.add(Dense(10, activation='softmax'))\n",
    "model.compile(optimizer='sgd', loss='sparse_categorical_crossentropy', metrics=['accuracy'])\n",
    "\n",
    "sgdbaseline = model.fit(X_train, y_train, epochs=30, validation_data=(X_test, y_test))"
   ]
  },
  {
   "cell_type": "code",
   "execution_count": 22,
   "metadata": {},
   "outputs": [
    {
     "data": {
      "image/png": "[encoded data removed]",
      "text/plain": [
       "<Figure size 432x288 with 1 Axes>"
      ]
     },
     "metadata": {
      "needs_background": "light"
     },
     "output_type": "display_data"
    }
   ],
   "source": [
    "df = pd.DataFrame.from_records(sgdbaseline.history)\n",
    "df['epoch'] = [i for i in range(df.shape[0])]\n",
    "\n",
    "ax = sns.lineplot(x='epoch', y='val_loss', data=df)\n",
    "ax = sns.lineplot(x='epoch', y='loss', data=df);"
   ]
  },
  {
   "cell_type": "code",
   "execution_count": 25,
   "metadata": {},
   "outputs": [
    {
     "data": {
      "text/plain": [
       "array([0, 6, 3, 1, 7, 5, 7, 0, 1, 4])"
      ]
     },
     "execution_count": 25,
     "metadata": {},
     "output_type": "execute_result"
    }
   ],
   "source": [
    "y[:10]"
   ]
  },
  {
   "cell_type": "markdown",
   "metadata": {
    "colab_type": "text",
    "id": "EJrbh3qryi4w"
   },
   "source": [
    "### Additional Written Tasks:\n",
    "In this section, you will need to search for resources: \n",
    "1. Investigate the various [loss functions](https://www.tensorflow.org/api_docs/python/tf/keras/losses). Which is best suited for the task at hand (predicting 1 / 0) and why? \n",
    "2. What is the difference between a loss function and a metric? Why might we need both in Keras? \n",
    "3. Investigate the various [optimizers](https://www.tensorflow.org/api_docs/python/tf/keras/optimizers). Stochastic Gradient Descent (`sgd`) is not the learning algorithm dejour anyone. Why is that? What do newer optimizers such as `adam` have to offer? "
   ]
  },
  {
   "cell_type": "markdown",
   "metadata": {},
   "source": [
    "1. i used 'sparse_categorical_crossentropy' because it's a multi-classification problem & my target is label encoded\n",
    "\n",
    "2. the loss function is used for optimization, it computes the quantity the model is seeking to minimize during training. a metric is used to evaluate the performance of the model. pretty much only used by me and has nothing to do with the training/optimization process.\n",
    "\n",
    "3. Gradient descent in general: update each parameter of a model, observe how a change would affect the objective function, choose a direction for low error rate, and continue iterating until the objective function converges to the minimum.\n",
    "SGD is a variant of gradient descent. It computes on a small subset/ random sample of data. SGD has same performance as regular gradient descent when learning rate is low.\n",
    "ADAM: algorithm for gradient-based optimization stochastic objective functions (stochastic= randomly distributed). combines root mean squared error propagation and adaptive gradient algorithm to compute individual adaptive learning rates for different parameters. adam can handle sparse gradients and noise, and is easy to configure. faster than SGD."
   ]
  },
  {
   "cell_type": "markdown",
   "metadata": {
    "colab_type": "text",
    "id": "Gzs4fd-RynDd"
   },
   "source": [
    "## Stretch Goals: \n",
    "\n",
    "- Research convolutional neural networks and try including convolution layers in your network.\n",
    "- Pick two classes and make QuickDraw a binary classification problem, how does your model architecture change?\n",
    "- Implement Cross Validation model evaluation on your Quickdraw implementation \n",
    "\n",
    "Watch some more videos on Gradient Descent:\n",
    "- [Gradient Descent, Step-by-Step](https://www.youtube.com/watch?v=sDv4f4s2SB8)  by StatQuest w/ Josh Starmer. This will help you understand the gradient descent based optimization that happens underneath the hood of neural networks. It uses a non-neural network example, which I believe is a gentler introduction. You will hear me refer to this technique as \"vanilla\" gradient descent. \n",
    "- [Stochastic Gradient Descent, Clearly Explained!!!](https://www.youtube.com/watch?v=vMh0zPT0tLI) by StatQuest w/ Josh Starmer. This builds on the techniques in the previous video.  This technique is the one that is actually implemented inside modern 'nets. \n",
    "- [Siraj Raval the evolution of gradient descent](https://www.youtube.com/watch?v=nhqo0u1a6fw)"
   ]
  }
 ],
 "metadata": {
  "accelerator": "GPU",
  "colab": {
   "collapsed_sections": [],
   "name": "LS_DS_432_TensorFlow_Assignment",
   "provenance": []
  },
  "kernelspec": {
   "display_name": "Python 3",
   "language": "python",
   "name": "python3"
  },
  "language_info": {
   "codemirror_mode": {
    "name": "ipython",
    "version": 3
   },
   "file_extension": ".py",
   "mimetype": "text/x-python",
   "name": "python",
   "nbconvert_exporter": "python",
   "pygments_lexer": "ipython3",
   "version": "3.8.6"
  }
 },
 "nbformat": 4,
 "nbformat_minor": 1
}
